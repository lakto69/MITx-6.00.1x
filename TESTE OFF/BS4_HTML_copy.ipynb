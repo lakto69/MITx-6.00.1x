{
 "cells": [
  {
   "cell_type": "markdown",
   "metadata": {},
   "source": [
    "# => `env`: `Jupyter`"
   ]
  },
  {
   "cell_type": "markdown",
   "metadata": {},
   "source": [
    "# Procura Arquivos `Jupyter Notebook` no disco `C:\\` e Grava essa Lista em uma página HTML contendo os seguintes itens:\n",
    "\n",
    "1. Nome do Arquivo;\n",
    "2. As primeiras linhas do arquivo *(restrito aos 1000 primeiros caracteres)*;\n",
    "3. Pasta onde o arquivo está.\n",
    "\n",
    "Tanto o **Nome do Arquivo**, quanto o nome da **Pasta** possuem links para os respectivos itens."
   ]
  },
  {
   "cell_type": "markdown",
   "metadata": {},
   "source": [
    "## Fases da Execução do App:\n",
    "\n",
    "1. Procurar os arquivos e guardar na lista `files`;\n",
    "2. Guardar essa lista no arquivo `notebooks.txt`;\n",
    "3. Separar dessa lista, os arquivos *indesejáveis* (que estão em pastas de backup, bibliotecas do Python, Lixeira, etc);\n",
    "   1. A variável `resultado_ok` guarda os *desejáveis*;\n",
    "   2. A variável `resultado_indesejado` guarda os *indesejáveis*;\n",
    "4. Criar o arquivo HTML com a listagem dos arquivos *desejáveis*: `notebooks.html`."
   ]
  },
  {
   "cell_type": "markdown",
   "metadata": {},
   "source": [
    "## 1:"
   ]
  },
  {
   "cell_type": "code",
   "execution_count": 1,
   "metadata": {},
   "outputs": [],
   "source": [
    "from tqdm import tqdm\n",
    "import glob\n",
    "from bs4 import BeautifulSoup\n",
    "import json\n"
   ]
  },
  {
   "cell_type": "code",
   "execution_count": null,
   "metadata": {},
   "outputs": [],
   "source": [
    "# Procurar, recursivamente, todos os arquivos com sufixo 'ipynb': \n",
    "# Trouxe 572 resultados!\n",
    "\n",
    "print(\"Procurando...\")\n",
    "files = glob.glob('C:/**/*.ipynb', recursive = True)\n",
    "print(f'Foram encontrados {len(files)} arquivos Jupyter Notebook.')"
   ]
  },
  {
   "cell_type": "markdown",
   "metadata": {},
   "source": [
    "> ***Observação:***\n",
    "> \n",
    "> Tentei localizar os arquivos usando o método abaixo, mas ele só localizou **105 resultados**, contra **572 resultados** usando o método anterior:\n",
    ">\n",
    "> ```python\n",
    "> for filename in glob.iglob('C:/**/*.ipynb', recursive = True):\n",
    ">    print(filename)\n",
    ">\n",
    "> ```"
   ]
  },
  {
   "cell_type": "markdown",
   "metadata": {},
   "source": [
    "# 2:"
   ]
  },
  {
   "cell_type": "code",
   "execution_count": 16,
   "metadata": {},
   "outputs": [],
   "source": [
    "# Salvando o resultado em um arquivo para uso futuro:\n",
    "for file in files:\n",
    "    \n",
    "    with open('notebooks.txt', 'a', encoding='utf-8') as f:\n",
    "        f.write(file + '\\n')"
   ]
  },
  {
   "cell_type": "markdown",
   "metadata": {},
   "source": [
    "### Caso queira rodar o App com os dados já buscados anteriormente, pode rodar o código abaixo:"
   ]
  },
  {
   "cell_type": "code",
   "execution_count": 2,
   "metadata": {},
   "outputs": [],
   "source": [
    "try:\n",
    "    files\n",
    "except:\n",
    "    # Recuperando os dados arquivados:\n",
    "    with open('notebooks.txt', 'r', encoding='utf-8') as f:\n",
    "        l_files = f.readlines()\n",
    "        \n",
    "    for i, valor in enumerate(l_files):\n",
    "        l_files[i] = valor[:-1]\n",
    "\n",
    "    files = l_files"
   ]
  },
  {
   "cell_type": "markdown",
   "metadata": {},
   "source": [
    "## 3:\n",
    "\n",
    "Retirando da lista os arquivos indesejáveis.\n",
    "\n",
    "Arquivos que estão dentro das seguintes pastas:\n",
    "1. `\\Cache\\virtualenvs\\`\n",
    "2. `\\Lib\\`\n",
    "3. `.ipynb_checkpoints`\n",
    "4. `/$Recycle.Bin`\n",
    "5. `\\AppData\\`\n"
   ]
  },
  {
   "cell_type": "code",
   "execution_count": 3,
   "metadata": {},
   "outputs": [
    {
     "name": "stderr",
     "output_type": "stream",
     "text": [
      "100%|██████████| 572/572 [00:00<00:00, 22204.82it/s]"
     ]
    },
    {
     "name": "stdout",
     "output_type": "stream",
     "text": [
      "Total: 572 - resultado_indesejado: 177 - resultado_ok: 395\n"
     ]
    },
    {
     "name": "stderr",
     "output_type": "stream",
     "text": [
      "\n"
     ]
    }
   ],
   "source": [
    "resultado_ok = [] # Resultado contendo o filtro\n",
    "resultado_indesejado = [] # Resultado filtrado\n",
    "\n",
    "indesejaveis = ['recycle.bin', 'cache', 'lib', '.ipynb_checkpoints', 'appdata'] # Pastas que não devem constar da listagem de ipynb\n",
    "\n",
    "for indice, caminho in enumerate(tqdm(files)): # Loop na lista de arquivos\n",
    "    copia = True\n",
    "    for ind in indesejaveis: # loop na lista de indesejáveis\n",
    "        # print(ind)\n",
    "        for pedaco in caminho.split('\\\\'): # loop nas partes de cada arquivo\n",
    "            # print(f'Processando: {pedaco} - {caminho[20:]}. [Índice: {indice}]')\n",
    "            if ind in pedaco.lower():\n",
    "                copia = False\n",
    "                # if ind!='recycle.bin':\n",
    "                #     print(f'pedaço:{pedaco} =>{caminho}')\n",
    "                break\n",
    "        if not copia:\n",
    "            break\n",
    "    if copia:\n",
    "        resultado_ok.append(caminho)\n",
    "    else:\n",
    "        resultado_indesejado.append(caminho)\n",
    "\n",
    "print(f'Total: {len(files)} - resultado_indesejado: {len(resultado_indesejado)} - resultado_ok: {len(resultado_ok)}')"
   ]
  },
  {
   "cell_type": "markdown",
   "metadata": {},
   "source": [
    "## 4:"
   ]
  },
  {
   "cell_type": "markdown",
   "metadata": {},
   "source": [
    "### Função pra buscar o resumo do conteúdo do arquivo:\n"
   ]
  },
  {
   "cell_type": "code",
   "execution_count": 113,
   "metadata": {},
   "outputs": [],
   "source": [
    "\n",
    "def pega_resumo(file, encoding='utf-8'):\n",
    "    \"\"\"\n",
    "    Entrada: \n",
    "        str - Caminho completo do arquivo.\n",
    "        str - Código de formatação. P.ex.: 'utf-8', 'ascii', etc. \n",
    "        Caso não seja informado, o padrão será 'utf-8'.\n",
    "\n",
    "    Saída:\n",
    "        resumo: str - Os 1.000 primeiros caracteres que estejam dentro dos conteúdos das células do arquivo 'ipynb'.\n",
    "        ambiente: str - O nome contido na chave 'display_name' do arquivo.\n",
    "        \n",
    "    \"\"\"\n",
    "    try:\n",
    "        with open(file, 'r', encoding=encoding) as f:\n",
    "            texto = f.read()\n",
    "        resumo = ''\n",
    "        for i, c in enumerate(json.loads(texto)['cells']):\n",
    "            if i>4:\n",
    "                break\n",
    "            if 'source' in c:\n",
    "                for linha in c['source']:\n",
    "                    resumo += linha + '\\n'\n",
    "        try:\n",
    "            ambiente = json.loads(texto)['metadata']['kernelspec']['display_name']\n",
    "        except:\n",
    "            ambiente = 'N/A'\n",
    "        \n",
    "        return (resumo.replace('\\n\\n', '\\n')[:1000].replace('\\n', '<br>'), ambiente)\n",
    "    except:\n",
    "        return ('N/A', 'N/A')\n",
    "\n"
   ]
  },
  {
   "cell_type": "markdown",
   "metadata": {},
   "source": [
    "### Criação e preenchimento da tabela `arquivos do usuário`:"
   ]
  },
  {
   "cell_type": "code",
   "execution_count": 114,
   "metadata": {},
   "outputs": [
    {
     "data": {
      "text/plain": [
       "150228"
      ]
     },
     "execution_count": 114,
     "metadata": {},
     "output_type": "execute_result"
    }
   ],
   "source": [
    "# VERSÃO TESTE:\n",
    "# 4.1\n",
    "# Cria o html:\n",
    "soup = BeautifulSoup(\"<html></html>\")\n",
    "original_tag = soup.html\n",
    "original_tag.append(soup.new_tag('head'))\n",
    "original_tag.head.append(soup.new_tag('meta'))\n",
    "original_tag.head.meta['charset'] = 'utf-8'\n",
    "original_tag.append(soup.new_tag('table'))\n",
    "original_tag.table['border'] = '1'\n",
    "## 4.2:\n",
    "# Cria 1ª linha da tabela (cabeçalho):\n",
    "linha_tag = soup.new_tag('tr')\n",
    "original_tag.table.append(linha_tag)\n",
    "# Preenche o cabeçalho da tabela:\n",
    "cel_tag = soup.new_tag('th') #1\n",
    "cel_tag.string = 'Arquivo'\n",
    "linha_tag.append(cel_tag)\n",
    "cel_tag = soup.new_tag('th') #2\n",
    "cel_tag.string = 'Resumo'\n",
    "linha_tag.append(cel_tag)\n",
    "cel_tag = soup.new_tag('th') #3\n",
    "cel_tag.string = 'Ambiente'\n",
    "linha_tag.append(cel_tag)\n",
    "cel_tag = soup.new_tag('th') #4\n",
    "cel_tag.string = 'Pasta'\n",
    "linha_tag.append(cel_tag)\n",
    "for linha in range(len(resultado_ok)):\n",
    "    \n",
    "    arquivo = resultado_ok[linha].split('\\\\')[-1]\n",
    "    pasta = resultado_ok[linha][:-len(arquivo)-1].replace('/', '\\\\')\n",
    "    resumo_total_str, ambiente = pega_resumo(resultado_ok[linha])\n",
    "    resumo_total = BeautifulSoup(resumo_total_str)\n",
    "    if resumo_total.p==None:\n",
    "        if resumo_total.body==None or resumo_total.body=='':\n",
    "            resumo_tag = soup.new_tag('p')\n",
    "            resumo_tag.string = '- X -'\n",
    "        else:\n",
    "            resumo_tag = resumo_total.body\n",
    "    else:\n",
    "        resumo_tag = resumo_total.p\n",
    "\n",
    "    # Cria próxima linha da tabela:\n",
    "    linha_tag = soup.new_tag('tr')\n",
    "    original_tag.table.append(linha_tag)\n",
    "\n",
    "    # Nova Linha >> Coluna 1 \"Arquivo\"\n",
    "    cel_tag = soup.new_tag('td') # cria nova célula\n",
    "    link_tag = soup.new_tag('a')\n",
    "    link_tag['href'] = r'file://' + resultado_ok[linha].replace('/', '\\\\')\n",
    "    link_tag.string = arquivo\n",
    "    cel_tag.insert(1, link_tag)\n",
    "    linha_tag.append(cel_tag)\n",
    "\n",
    "    # Nova Linha >> # Coluna 2 (resumo):\n",
    "    cel_tag = soup.new_tag('td') # cria nova célula\n",
    "    cel_tag.append(resumo_tag) # tag contendo o resumo\n",
    "    linha_tag.append(cel_tag)\n",
    "\n",
    "    # Nova Linha >> Coluna 3 \"Ambiente\"\n",
    "    cel_tag = soup.new_tag('td') # cria nova célula\n",
    "    cel_tag.string = ambiente\n",
    "    linha_tag.append(cel_tag)\n",
    "\n",
    "    # Nova Linha >> Coluna 4 \"Pasta\"\n",
    "    cel_tag = soup.new_tag('td') # cria nova célula\n",
    "    link_tag = soup.new_tag('a')\n",
    "    link_tag['href'] = r'file://' + pasta.replace('/', '\\\\')\n",
    "    link_tag.string = pasta # <- variável \"pasta\"\n",
    "    cel_tag.insert(1, link_tag)\n",
    "    linha_tag.append(cel_tag)\n",
    "\n",
    "# Salva em um arquivo html:\n",
    "with open('notebooks.html', 'w', encoding='utf-8') as f:\n",
    "    f.write(original_tag.prettify())\n",
    " # ACIMA ESTÁ OK!\n",
    " "
   ]
  },
  {
   "cell_type": "markdown",
   "metadata": {},
   "source": [
    "### Criação e preenchimento da tabela `arquivos do sistema`:"
   ]
  },
  {
   "cell_type": "code",
   "execution_count": null,
   "metadata": {},
   "outputs": [
    {
     "data": {
      "text/plain": [
       "150228"
      ]
     },
     "metadata": {},
     "output_type": "display_data"
    }
   ],
   "source": [
    "# VERSÃO TESTE:\n",
    "# 4.1\n",
    "# Cria o html:\n",
    "soup = BeautifulSoup(\"<html></html>\")\n",
    "original_tag = soup.html\n",
    "original_tag.append(soup.new_tag('head'))\n",
    "original_tag.head.append(soup.new_tag('meta'))\n",
    "original_tag.head.meta['charset'] = 'utf-8'\n",
    "original_tag.append(soup.new_tag('table'))\n",
    "original_tag.table['border'] = '1'\n",
    "## 4.2:\n",
    "# Cria 1ª linha da tabela (cabeçalho):\n",
    "linha_tag = soup.new_tag('tr')\n",
    "original_tag.table.append(linha_tag)\n",
    "# Preenche o cabeçalho da tabela:\n",
    "cel_tag = soup.new_tag('th') #1\n",
    "cel_tag.string = 'Arquivo'\n",
    "linha_tag.append(cel_tag)\n",
    "cel_tag = soup.new_tag('th') #2\n",
    "cel_tag.string = 'Resumo'\n",
    "linha_tag.append(cel_tag)\n",
    "cel_tag = soup.new_tag('th') #3\n",
    "cel_tag.string = 'Ambiente'\n",
    "linha_tag.append(cel_tag)\n",
    "cel_tag = soup.new_tag('th') #4\n",
    "cel_tag.string = 'Pasta'\n",
    "linha_tag.append(cel_tag)\n",
    "for linha in range(len(resultado_indesejado)):\n",
    "    \n",
    "    arquivo = resultado_indesejado[linha].split('\\\\')[-1]\n",
    "    pasta = resultado_indesejado[linha][:-len(arquivo)-1].replace('/', '\\\\')\n",
    "    resumo_total_str, ambiente = pega_resumo(resultado_indesejado[linha])\n",
    "    resumo_total = BeautifulSoup(resumo_total_str)\n",
    "    if resumo_total.p==None:\n",
    "        if resumo_total.body==None or resumo_total.body=='':\n",
    "            resumo_tag = soup.new_tag('p')\n",
    "            resumo_tag.string = '- X -'\n",
    "        else:\n",
    "            resumo_tag = resumo_total.body\n",
    "    else:\n",
    "        resumo_tag = resumo_total.p\n",
    "\n",
    "    # Cria próxima linha da tabela:\n",
    "    linha_tag = soup.new_tag('tr')\n",
    "    original_tag.table.append(linha_tag)\n",
    "\n",
    "    # Nova Linha >> Coluna 1 \"Arquivo\"\n",
    "    cel_tag = soup.new_tag('td') # cria nova célula\n",
    "    link_tag = soup.new_tag('a')\n",
    "    link_tag['href'] = r'file://' + resultado_indesejado[linha].replace('/', '\\\\')\n",
    "    link_tag.string = arquivo\n",
    "    cel_tag.insert(1, link_tag)\n",
    "    linha_tag.append(cel_tag)\n",
    "\n",
    "    # Nova Linha >> # Coluna 2 (resumo):\n",
    "    cel_tag = soup.new_tag('td') # cria nova célula\n",
    "    cel_tag.append(resumo_tag) # tag contendo o resumo\n",
    "    linha_tag.append(cel_tag)\n",
    "\n",
    "    # Nova Linha >> Coluna 3 \"Ambiente\"\n",
    "    cel_tag = soup.new_tag('td') # cria nova célula\n",
    "    cel_tag.string = ambiente\n",
    "    linha_tag.append(cel_tag)\n",
    "\n",
    "    # Nova Linha >> Coluna 4 \"Pasta\"\n",
    "    cel_tag = soup.new_tag('td') # cria nova célula\n",
    "    link_tag = soup.new_tag('a')\n",
    "    link_tag['href'] = r'file://' + pasta.replace('/', '\\\\')\n",
    "    link_tag.string = pasta # <- variável \"pasta\"\n",
    "    cel_tag.insert(1, link_tag)\n",
    "    linha_tag.append(cel_tag)\n",
    "\n",
    "# Salva em um arquivo html:\n",
    "with open('notebooks_extra.html', 'w', encoding='utf-8') as f:\n",
    "    f.write(original_tag.prettify())\n",
    " # ACIMA ESTÁ OK!\n",
    " "
   ]
  },
  {
   "cell_type": "code",
   "execution_count": 72,
   "metadata": {},
   "outputs": [
    {
     "data": {
      "text/plain": [
       "'C:/Python39\\\\Lib\\\\site-packages\\\\nbformat\\\\tests\\\\test2.ipynb'"
      ]
     },
     "execution_count": 72,
     "metadata": {},
     "output_type": "execute_result"
    }
   ],
   "source": [
    "# resultado_indesejado.pop(0)\n",
    "resultado_indesejado[47]"
   ]
  },
  {
   "cell_type": "code",
   "execution_count": 111,
   "metadata": {},
   "outputs": [],
   "source": [
    "jt = '''{\n",
    "    \"metadata\": {\n",
    "        \"name\": \"01 notebook\"\n",
    "    },\n",
    "    \"nbformat\": 2,\n",
    "    \"worksheets\": [\n",
    "        {\n",
    "            \"cells\": [\n",
    "                {\n",
    "     \"cell_type\": \"markdown\", \n",
    "     \"source\": [\n",
    "      \"# An introduction to the Jupyter notebook\", \n",
    "      \"\", \n",
    "      \"The IPython web notebook is a frontend that allows for new modes\", \n",
    "      \"of interaction with IPython: this web-based interface allows you to execute Python and IPython\", \n",
    "      \"commands in each input cell just like you would at the IPython terminal or Qt console, but you can\", \n",
    "      \"also save an entire session as a document in a file with the `.ipynb` extension.\", \n",
    "      \"\", \n",
    "      \"The document you are reading now is precisely an example of one such notebook, and we will show you\", \n",
    "      \"here how to best use this new interface.\", \n",
    "      \"\", \n",
    "      \"The first thing to understand is that a notebook consists of a sequence of 'cells' that can contain \", \n",
    "      \"either text (such as this one) or code meant for execution (such as the next one):\", \n",
    "      \"\", \n",
    "      \"* Text cells can be written using [Markdown syntax](http://daringfireball.net/projects/markdown/syntax) \", \n",
    "      \"(in a future release we will also provide support for reStructuredText and Sphinx integration, and we \", \n",
    "      \"welcome help from interested contributors to make that happen).\", \n",
    "      \"\", \n",
    "      \"* Code cells take IPython input (i.e. Python code, `%magics`, `!system calls`, etc) like IPython at\", \n",
    "      \"the terminal or at the Qt Console.  The only difference is that in order to execute a cell, you *must*\", \n",
    "      \"use `Shift-Enter`, as pressing `Enter` will add a new line of text to the cell.  When you type \", \n",
    "      \"`Shift-Enter`, the cell content is executed, output displayed and a new cell is created below.  Try\", \n",
    "      \"it now by putting your cursor on the next cell and typing `Shift-Enter`:\"\n",
    "     ]\n",
    "    },\n",
    "\n",
    "\n",
    "{\n",
    "     \"cell_type\": \"code\", \n",
    "     \"collapsed\": false, \n",
    "     \"input\": [\n",
    "      \"\\\"This is the new Jupyter notebook\\\"\"\n",
    "     ], \n",
    "     \"language\": \"python\", \n",
    "     \"outputs\": [\n",
    "      {\n",
    "       \"output_type\": \"pyout\", \n",
    "       \"prompt_number\": 1, \n",
    "       \"text\": [\n",
    "        \"'This is the new Jupyter notebook'\"\n",
    "       ]\n",
    "      }\n",
    "     ], \n",
    "     \"prompt_number\": 1\n",
    "    }\n",
    "\n",
    "            ]\n",
    "        }\n",
    "    ]\n",
    "}'''"
   ]
  },
  {
   "cell_type": "code",
   "execution_count": 112,
   "metadata": {},
   "outputs": [
    {
     "ename": "JSONDecodeError",
     "evalue": "Expecting ',' delimiter: line 42 column 9 (char 1964)",
     "output_type": "error",
     "traceback": [
      "\u001b[1;31m---------------------------------------------------------------------------\u001b[0m",
      "\u001b[1;31mJSONDecodeError\u001b[0m                           Traceback (most recent call last)",
      "\u001b[1;32m~\\AppData\\Local\\Temp/ipykernel_21968/1881750310.py\u001b[0m in \u001b[0;36m<module>\u001b[1;34m\u001b[0m\n\u001b[1;32m----> 1\u001b[1;33m \u001b[0mprint\u001b[0m\u001b[1;33m(\u001b[0m\u001b[0mjson\u001b[0m\u001b[1;33m.\u001b[0m\u001b[0mloads\u001b[0m\u001b[1;33m(\u001b[0m\u001b[0mjt\u001b[0m\u001b[1;33m)\u001b[0m\u001b[1;33m)\u001b[0m\u001b[1;33m\u001b[0m\u001b[1;33m\u001b[0m\u001b[0m\n\u001b[0m",
      "\u001b[1;32mc:\\python39\\lib\\json\\__init__.py\u001b[0m in \u001b[0;36mloads\u001b[1;34m(s, cls, object_hook, parse_float, parse_int, parse_constant, object_pairs_hook, **kw)\u001b[0m\n\u001b[0;32m    344\u001b[0m             \u001b[0mparse_int\u001b[0m \u001b[1;32mis\u001b[0m \u001b[1;32mNone\u001b[0m \u001b[1;32mand\u001b[0m \u001b[0mparse_float\u001b[0m \u001b[1;32mis\u001b[0m \u001b[1;32mNone\u001b[0m \u001b[1;32mand\u001b[0m\u001b[1;33m\u001b[0m\u001b[1;33m\u001b[0m\u001b[0m\n\u001b[0;32m    345\u001b[0m             parse_constant is None and object_pairs_hook is None and not kw):\n\u001b[1;32m--> 346\u001b[1;33m         \u001b[1;32mreturn\u001b[0m \u001b[0m_default_decoder\u001b[0m\u001b[1;33m.\u001b[0m\u001b[0mdecode\u001b[0m\u001b[1;33m(\u001b[0m\u001b[0ms\u001b[0m\u001b[1;33m)\u001b[0m\u001b[1;33m\u001b[0m\u001b[1;33m\u001b[0m\u001b[0m\n\u001b[0m\u001b[0;32m    347\u001b[0m     \u001b[1;32mif\u001b[0m \u001b[0mcls\u001b[0m \u001b[1;32mis\u001b[0m \u001b[1;32mNone\u001b[0m\u001b[1;33m:\u001b[0m\u001b[1;33m\u001b[0m\u001b[1;33m\u001b[0m\u001b[0m\n\u001b[0;32m    348\u001b[0m         \u001b[0mcls\u001b[0m \u001b[1;33m=\u001b[0m \u001b[0mJSONDecoder\u001b[0m\u001b[1;33m\u001b[0m\u001b[1;33m\u001b[0m\u001b[0m\n",
      "\u001b[1;32mc:\\python39\\lib\\json\\decoder.py\u001b[0m in \u001b[0;36mdecode\u001b[1;34m(self, s, _w)\u001b[0m\n\u001b[0;32m    335\u001b[0m \u001b[1;33m\u001b[0m\u001b[0m\n\u001b[0;32m    336\u001b[0m         \"\"\"\n\u001b[1;32m--> 337\u001b[1;33m         \u001b[0mobj\u001b[0m\u001b[1;33m,\u001b[0m \u001b[0mend\u001b[0m \u001b[1;33m=\u001b[0m \u001b[0mself\u001b[0m\u001b[1;33m.\u001b[0m\u001b[0mraw_decode\u001b[0m\u001b[1;33m(\u001b[0m\u001b[0ms\u001b[0m\u001b[1;33m,\u001b[0m \u001b[0midx\u001b[0m\u001b[1;33m=\u001b[0m\u001b[0m_w\u001b[0m\u001b[1;33m(\u001b[0m\u001b[0ms\u001b[0m\u001b[1;33m,\u001b[0m \u001b[1;36m0\u001b[0m\u001b[1;33m)\u001b[0m\u001b[1;33m.\u001b[0m\u001b[0mend\u001b[0m\u001b[1;33m(\u001b[0m\u001b[1;33m)\u001b[0m\u001b[1;33m)\u001b[0m\u001b[1;33m\u001b[0m\u001b[1;33m\u001b[0m\u001b[0m\n\u001b[0m\u001b[0;32m    338\u001b[0m         \u001b[0mend\u001b[0m \u001b[1;33m=\u001b[0m \u001b[0m_w\u001b[0m\u001b[1;33m(\u001b[0m\u001b[0ms\u001b[0m\u001b[1;33m,\u001b[0m \u001b[0mend\u001b[0m\u001b[1;33m)\u001b[0m\u001b[1;33m.\u001b[0m\u001b[0mend\u001b[0m\u001b[1;33m(\u001b[0m\u001b[1;33m)\u001b[0m\u001b[1;33m\u001b[0m\u001b[1;33m\u001b[0m\u001b[0m\n\u001b[0;32m    339\u001b[0m         \u001b[1;32mif\u001b[0m \u001b[0mend\u001b[0m \u001b[1;33m!=\u001b[0m \u001b[0mlen\u001b[0m\u001b[1;33m(\u001b[0m\u001b[0ms\u001b[0m\u001b[1;33m)\u001b[0m\u001b[1;33m:\u001b[0m\u001b[1;33m\u001b[0m\u001b[1;33m\u001b[0m\u001b[0m\n",
      "\u001b[1;32mc:\\python39\\lib\\json\\decoder.py\u001b[0m in \u001b[0;36mraw_decode\u001b[1;34m(self, s, idx)\u001b[0m\n\u001b[0;32m    351\u001b[0m         \"\"\"\n\u001b[0;32m    352\u001b[0m         \u001b[1;32mtry\u001b[0m\u001b[1;33m:\u001b[0m\u001b[1;33m\u001b[0m\u001b[1;33m\u001b[0m\u001b[0m\n\u001b[1;32m--> 353\u001b[1;33m             \u001b[0mobj\u001b[0m\u001b[1;33m,\u001b[0m \u001b[0mend\u001b[0m \u001b[1;33m=\u001b[0m \u001b[0mself\u001b[0m\u001b[1;33m.\u001b[0m\u001b[0mscan_once\u001b[0m\u001b[1;33m(\u001b[0m\u001b[0ms\u001b[0m\u001b[1;33m,\u001b[0m \u001b[0midx\u001b[0m\u001b[1;33m)\u001b[0m\u001b[1;33m\u001b[0m\u001b[1;33m\u001b[0m\u001b[0m\n\u001b[0m\u001b[0;32m    354\u001b[0m         \u001b[1;32mexcept\u001b[0m \u001b[0mStopIteration\u001b[0m \u001b[1;32mas\u001b[0m \u001b[0merr\u001b[0m\u001b[1;33m:\u001b[0m\u001b[1;33m\u001b[0m\u001b[1;33m\u001b[0m\u001b[0m\n\u001b[0;32m    355\u001b[0m             \u001b[1;32mraise\u001b[0m \u001b[0mJSONDecodeError\u001b[0m\u001b[1;33m(\u001b[0m\u001b[1;34m\"Expecting value\"\u001b[0m\u001b[1;33m,\u001b[0m \u001b[0ms\u001b[0m\u001b[1;33m,\u001b[0m \u001b[0merr\u001b[0m\u001b[1;33m.\u001b[0m\u001b[0mvalue\u001b[0m\u001b[1;33m)\u001b[0m \u001b[1;32mfrom\u001b[0m \u001b[1;32mNone\u001b[0m\u001b[1;33m\u001b[0m\u001b[1;33m\u001b[0m\u001b[0m\n",
      "\u001b[1;31mJSONDecodeError\u001b[0m: Expecting ',' delimiter: line 42 column 9 (char 1964)"
     ]
    }
   ],
   "source": [
    "print(json.loads(jt))"
   ]
  },
  {
   "cell_type": "markdown",
   "metadata": {},
   "source": [
    "---\n",
    "# Rascunhos:"
   ]
  },
  {
   "cell_type": "markdown",
   "metadata": {},
   "source": [
    "### Colocando imagem no link:"
   ]
  },
  {
   "cell_type": "code",
   "execution_count": null,
   "metadata": {},
   "outputs": [],
   "source": [
    "# Abrindo o arquivo com o VSC:\n",
    "link_tag = soup.new_tag('img')\n",
    "link_tag['src'] = r'https://img.icons8.com/material-outlined/32/000000/code.png'\n",
    "link_tag['href'] = r'http://blablabla.com/' \n",
    "# link_tag.string = 'VSC'\n",
    "td_tag.insert(1, link_tag)    "
   ]
  },
  {
   "cell_type": "markdown",
   "metadata": {},
   "source": [
    "#### Gabaritos de inclusão de células em `tabelas`:\n",
    "\n",
    "1. O Conteúdo **é** um link:\n",
    "   ```python\n",
    "    cel_tag = soup.new_tag('td') # cria nova célula\n",
    "    cel_tag.string = 'texto (além do link)' # Pode ser desnecessário!\n",
    "    link_tag = soup.new_tag('a') # cria um link\n",
    "    link_tag['href'] = r'http://www.blablabla.com/' # define a url do link\n",
    "    link_tag.string = 'texto do link' # define o texto do link\n",
    "    cel_tag.insert(1, link_tag) # insere o link na célula\n",
    "    linha_tag.append(cel_tag) # insere a célula na linha\n",
    "    \n",
    "   ```\n",
    "\n",
    "\n",
    "2. O Conteudo **não é** um link:\n",
    "    ```python\n",
    "    cel_tag = soup.new_tag('td') # cria nova célula\n",
    "    cel_tag.string = 'texto da célula'\n",
    "    linha_tag.append(cel_tag) # insere a célula na linha\n",
    "   ```"
   ]
  },
  {
   "cell_type": "markdown",
   "metadata": {},
   "source": [
    "## Uso de `powershell` com o `python`:"
   ]
  },
  {
   "cell_type": "code",
   "execution_count": 130,
   "metadata": {},
   "outputs": [
    {
     "data": {
      "text/plain": [
       "'c:\\\\Users\\\\leite.aml\\\\OneDrive - Polícia Federal\\\\Programação\\\\Python\\\\util'"
      ]
     },
     "execution_count": 130,
     "metadata": {},
     "output_type": "execute_result"
    }
   ],
   "source": [
    "%pwd\n",
    "# %run 'C:\\Users\\leite.aml\\OneDrive - Polícia Federal\\Programação\\Python\\Packt\\Powershell.ipynb'.replace('\\\\', '/')"
   ]
  },
  {
   "cell_type": "code",
   "execution_count": 137,
   "metadata": {},
   "outputs": [
    {
     "ename": "SyntaxError",
     "evalue": "invalid syntax (Temp/ipykernel_21968/3179874894.py, line 1)",
     "output_type": "error",
     "traceback": [
      "\u001b[1;36m  File \u001b[1;32m\"C:\\Users\\leite.aml\\AppData\\Local\\Temp/ipykernel_21968/3179874894.py\"\u001b[1;36m, line \u001b[1;32m1\u001b[0m\n\u001b[1;33m    $a = Get-CimInstance -ClassName Win32_ComputerSystem | Select-Object -Property SystemType\u001b[0m\n\u001b[1;37m    ^\u001b[0m\n\u001b[1;31mSyntaxError\u001b[0m\u001b[1;31m:\u001b[0m invalid syntax\n"
     ]
    },
    {
     "ename": "SyntaxError",
     "evalue": "invalid syntax (Temp/ipykernel_21968/3179874894.py, line 1)",
     "output_type": "error",
     "traceback": [
      "Traceback \u001b[1;36m(most recent call last)\u001b[0m:\n",
      "  File \u001b[0;32m\"C:\\Users\\leite.aml\\Envs\\Jupyter\\lib\\site-packages\\IPython\\core\\interactiveshell.py\"\u001b[0m, line \u001b[0;32m3444\u001b[0m, in \u001b[0;35mrun_code\u001b[0m\n    exec(code_obj, self.user_global_ns, self.user_ns)\n",
      "  File \u001b[0;32m\"C:\\Users\\leite.aml\\AppData\\Local\\Temp/ipykernel_21968/3742998178.py\"\u001b[0m, line \u001b[0;32m1\u001b[0m, in \u001b[0;35m<module>\u001b[0m\n    get_ipython().run_line_magic('run', './Powershell.ipynb')\n",
      "  File \u001b[0;32m\"C:\\Users\\leite.aml\\Envs\\Jupyter\\lib\\site-packages\\IPython\\core\\interactiveshell.py\"\u001b[0m, line \u001b[0;32m2351\u001b[0m, in \u001b[0;35mrun_line_magic\u001b[0m\n    result = fn(*args, **kwargs)\n",
      "  File \u001b[0;32m\"C:\\Users\\leite.aml\\Envs\\Jupyter\\lib\\site-packages\\decorator.py\"\u001b[0m, line \u001b[0;32m214\u001b[0m, in \u001b[0;35mfun\u001b[0m\n    return caller(func, *(extras + args), **kw)\n",
      "  File \u001b[0;32m\"C:\\Users\\leite.aml\\Envs\\Jupyter\\lib\\site-packages\\IPython\\core\\magic.py\"\u001b[0m, line \u001b[0;32m187\u001b[0m, in \u001b[0;35m<lambda>\u001b[0m\n    call = lambda f, *a, **k: f(*a, **k)\n",
      "  File \u001b[0;32m\"C:\\Users\\leite.aml\\Envs\\Jupyter\\lib\\site-packages\\IPython\\core\\magics\\execution.py\"\u001b[0m, line \u001b[0;32m724\u001b[0m, in \u001b[0;35mrun\u001b[0m\n    self.shell.safe_execfile_ipy(filename, raise_exceptions=True)\n",
      "  File \u001b[0;32m\"C:\\Users\\leite.aml\\Envs\\Jupyter\\lib\\site-packages\\IPython\\core\\interactiveshell.py\"\u001b[0m, line \u001b[0;32m2838\u001b[0m, in \u001b[0;35msafe_execfile_ipy\u001b[0m\n    result.raise_error()\n",
      "  File \u001b[0;32m\"C:\\Users\\leite.aml\\Envs\\Jupyter\\lib\\site-packages\\IPython\\core\\interactiveshell.py\"\u001b[0m, line \u001b[0;32m330\u001b[0m, in \u001b[0;35mraise_error\u001b[0m\n    raise self.error_before_exec\n",
      "  File \u001b[0;32m\"C:\\Users\\leite.aml\\Envs\\Jupyter\\lib\\site-packages\\IPython\\core\\interactiveshell.py\"\u001b[0m, line \u001b[0;32m3143\u001b[0m, in \u001b[0;35mrun_cell_async\u001b[0m\n    code_ast = compiler.ast_parse(cell, filename=cell_name)\n",
      "\u001b[1;36m  File \u001b[1;32m\"C:\\Users\\leite.aml\\Envs\\Jupyter\\lib\\site-packages\\IPython\\core\\compilerop.py\"\u001b[1;36m, line \u001b[1;32m101\u001b[1;36m, in \u001b[1;35mast_parse\u001b[1;36m\u001b[0m\n\u001b[1;33m    return compile(source, filename, symbol, self.flags | PyCF_ONLY_AST, 1)\u001b[0m\n",
      "\u001b[1;36m  File \u001b[1;32m\"C:\\Users\\leite.aml\\AppData\\Local\\Temp/ipykernel_21968/3179874894.py\"\u001b[1;36m, line \u001b[1;32m1\u001b[0m\n\u001b[1;33m    $a = Get-CimInstance -ClassName Win32_ComputerSystem | Select-Object -Property SystemType\u001b[0m\n\u001b[1;37m    ^\u001b[0m\n\u001b[1;31mSyntaxError\u001b[0m\u001b[1;31m:\u001b[0m invalid syntax\n"
     ]
    }
   ],
   "source": [
    "%run ./Powershell.ipynb"
   ]
  }
 ],
 "metadata": {
  "interpreter": {
   "hash": "90f5327eb511fdb7358f94fd67bdd3e7311eb6bb7b71e6e2444a471f1ba0d5d5"
  },
  "kernelspec": {
   "display_name": "Python 3.9.0 64-bit ('Jupyter': virtualenv)",
   "language": "python",
   "name": "python3"
  },
  "language_info": {
   "codemirror_mode": {
    "name": "ipython",
    "version": 3
   },
   "file_extension": ".py",
   "mimetype": "text/x-python",
   "name": "python",
   "nbconvert_exporter": "python",
   "pygments_lexer": "ipython3",
   "version": "3.9.0"
  },
  "orig_nbformat": 4
 },
 "nbformat": 4,
 "nbformat_minor": 2
}
